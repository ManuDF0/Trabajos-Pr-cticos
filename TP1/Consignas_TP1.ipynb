{
 "cells": [
  {
   "cell_type": "markdown",
   "metadata": {
    "collapsed": true,
    "id": "Dh8MkXaG-c9Y",
    "jupyter": {
     "outputs_hidden": true
    }
   },
   "source": [
    "# Machine Learning para Economistas\n",
    "\n",
    "## Trabajo Práctico 1"
   ]
  },
  {
   "cell_type": "markdown",
   "metadata": {
    "id": "RhBlm6mZ-c9e"
   },
   "source": [
    "### Reglas de formato y presentación\n",
    "- El trabajo debe estar bien comentado (utilizando #) para que el código sea fácil de entender por sus compañeros y profesores.\n",
    "\n",
    "- El mismo debe ser completado en este Jupyter Notebook y entregado como tal, es decir en un archivo .ipynb\n"
   ]
  },
  {
   "cell_type": "markdown",
   "metadata": {
    "id": "ZEjGaa4U-c9g"
   },
   "source": [
    "### Fecha de entrega:\n",
    "Viernes 4 de octubre a las 23:59hs"
   ]
  },
  {
   "cell_type": "markdown",
   "metadata": {
    "id": "N9TU2y7E-c9h"
   },
   "source": [
    "### Modalidad de entrega\n",
    "- Creen un respositorio de Github con su grupo para trabajar en las entregas.\n",
    "- Al finalizar el trabajo práctico deben hacer un último <i>commit</i> en su repositorio de GitHub con el mensaje “Entrega final del tp”. \n",
    "- Asegurense de haber creado una carpeta llamada TP1.\n",
    "- Tienen que completar con el link del repositorio en el Excel con los grupos: https://bit.ly/grupos_MLE\n",
    "- La última versión en el repositorio es la que será evaluada. Por lo que es importante que: \n",
    "    - No envien el correo hasta no haber terminado y estar seguros de que han hecho el <i>commit y push</i> a la versión final que quieren entregar.\n",
    "    - No hagan nuevos <i>push</i> despues de haber entregado su versión final. Esto generaría confusión acerca de que versión es la que quieren que se les corrija. "
   ]
  },
  {
   "cell_type": "markdown",
   "metadata": {
    "id": "ZXbrPraa-c9i"
   },
   "source": [
    "#### Ejercicio 1\n",
    "Este ejercicio simplemente busca repasar lo que aprendimos sobre definición de variables. Definir dos variables con un nombre combinado (al menos dos palabras), una que se pueda crear y otra que tenga un nombre inaceptable (genera error). Explicar por qué ocurre el error."
   ]
  },
  {
   "cell_type": "code",
   "execution_count": 4,
   "metadata": {
    "id": "mb7PkXfN-c9j"
   },
   "outputs": [
    {
     "ename": "SyntaxError",
     "evalue": "invalid decimal literal (3253898840.py, line 5)",
     "output_type": "error",
     "traceback": [
      "\u001b[0;36m  Cell \u001b[0;32mIn[4], line 5\u001b[0;36m\u001b[0m\n\u001b[0;31m    1perro_hola = 1 # da error al definir la variable porque comienza con un caracter numérico\u001b[0m\n\u001b[0m    ^\u001b[0m\n\u001b[0;31mSyntaxError\u001b[0m\u001b[0;31m:\u001b[0m invalid decimal literal\n"
     ]
    }
   ],
   "source": [
    "# Caso A\n",
    "hola_1perro = 1 # Se puede definir la variable porque solo contiene valores alfanuméricos, _ y no usa palabras reservadas\n",
    "\n",
    "# Caso B (acá debería saltar un error)\n",
    "1perro_hola = 1 # Da error al definir la variable porque comienza con un caracter numérico"
   ]
  },
  {
   "cell_type": "markdown",
   "metadata": {},
   "source": [
    "#### Ejercicio 2\n",
    "Importar módulos. Usando el módulo math impriman la tangente de 1. ¿Cuál es el resultado?\n",
    "Hagan este cálculo de dos formas: primero importando el módulo math y usando la función correspondiente y luego solo importando la función específica que precisan para el cálculo."
   ]
  },
  {
   "cell_type": "code",
   "execution_count": 12,
   "metadata": {},
   "outputs": [
    {
     "name": "stdout",
     "output_type": "stream",
     "text": [
      "1.5574077246549023\n"
     ]
    }
   ],
   "source": [
    "# Caso A\n",
    "import math # Importo el módulo math \n",
    "print(math.tan(1)) # Imprimo la tangente de 1. El resultado es 1.5574077246549023"
   ]
  },
  {
   "cell_type": "code",
   "execution_count": 2,
   "metadata": {},
   "outputs": [
    {
     "name": "stdout",
     "output_type": "stream",
     "text": [
      "1.5574077246549023\n"
     ]
    }
   ],
   "source": [
    "# Caso B\n",
    "from math import tan as tn # Importo únicamente la función tan (poniendo ln como alias para el atributo) del modulo math\n",
    "print(tn(1)) # De esta manera no hace falta que utilicemos el math. Obtenemos el mismo resultado que en el Caso A"
   ]
  },
  {
   "cell_type": "markdown",
   "metadata": {
    "id": "GlNh0fyv-c9l"
   },
   "source": [
    "#### Ejercicio 3 \n",
    "Este ejercicio trata sobre lograr el intercambio de valores entre dos variables utilizando una variable temporal para hacerlo. Las variables temporales y la sustitución de valores termina siendo útil en algunos loops. Los pasos a seguir son: (a) definir variables A y B (cuyos valores buscaremos invertir); (b) definir una variable temporal que resguarde el valor de B; (c) sustitución (asignar B igual a A y también A igual al valor original de B); (d) imprimir valores para verificar."
   ]
  },
  {
   "cell_type": "code",
   "execution_count": 6,
   "metadata": {
    "id": "uWalSYFC-c9m"
   },
   "outputs": [
    {
     "name": "stdout",
     "output_type": "stream",
     "text": [
      "1 2\n"
     ]
    }
   ],
   "source": [
    "# a) Definir variables A y B, \n",
    "a = 1 # Defino variable a igual a 1 \n",
    "b = 2 # Defino variable b igual a 2 \n",
    "\n",
    "print (a,b) # Imprimo cuánto vale cada variable"
   ]
  },
  {
   "cell_type": "code",
   "execution_count": 10,
   "metadata": {},
   "outputs": [
    {
     "name": "stdout",
     "output_type": "stream",
     "text": [
      "1 2\n"
     ]
    }
   ],
   "source": [
    "# b) Definir variable temporal \"tmp\" igual a B (la variable, no el valor)\n",
    "\n",
    "tmp = b # Defino una variable temporal que se iguale a nuestra variable 'b'\n",
    "\n",
    "# c) Ahora sustituir variables: variable B igual a variable A (la variable, no el\n",
    "# valor) y viceversa.\n",
    "\n",
    "b = a # Sustituyo la variable 'b' a la 'a' \n",
    "\n",
    "a = tmp # Sustituyo la variable 'a' igual a nuestra variable temporal 'tmp' (que habíamos igualado a nuestra variable 'b') \n",
    "\n",
    "# d) Verifiquemos resultados: imprimir variables A y B\n",
    "\n",
    "print(a,b) # Imprimo cuánto vale cada variable ahora"
   ]
  },
  {
   "cell_type": "markdown",
   "metadata": {
    "id": "wXhAaRyN-c9p"
   },
   "source": [
    "#### Ejercicio 4\n",
    "En este ejercicio se busca poner en práctica el uso de range() en un for loop. \n",
    "\n",
    "Construir un for loop usando un range(). El range debe ser entre los valores que quieran (con una diferencia mínima de 15 entre start y stop), en incrementos de 3 unidades. Dentro del loop, implementar una sentencia condicional que imprima una leyenda indicando si el input es par o impar."
   ]
  },
  {
   "cell_type": "code",
   "execution_count": 6,
   "metadata": {
    "id": "_oE5sG0c-c9q"
   },
   "outputs": [
    {
     "name": "stdout",
     "output_type": "stream",
     "text": [
      "1 no es par\n",
      "4 es par\n",
      "7 no es par\n",
      "10 es par\n",
      "13 no es par\n",
      "16 es par\n",
      "19 no es par\n",
      "22 es par\n",
      "25 no es par\n",
      "28 es par\n"
     ]
    }
   ],
   "source": [
    "# Resolver acá\n",
    "for i in range(1, 30, 3): # Definimos el for loop para una rango de valores de 1 a 30, en incrementos de 3 unidades\n",
    "    if i % 2 == 0: # Si dividimos el valor i por 2 y su resto es cero, el valor es par\n",
    "        print(f\"{i} es par\") # Imprimimos que el valor es par. Usamos el operador 'f' para formatear la oración de manera que interprete a 'i' como una variable.\n",
    "    else: # Si el resto de la division del valor por dos es distinto de cero, el valor no es par.\n",
    "        print(f\"{i} no es par\") # Imprimimos que el valor no es par\n"
   ]
  },
  {
   "cell_type": "markdown",
   "metadata": {
    "id": "h3g5bXUB-c9u"
   },
   "source": [
    "#### Ejercicio 5\n",
    "Para practicar el uso de condiciones lógicas y la definición de funciones, construir una función con una sentencia condicional que verifique si un año es bisiesto o no. Para que un año sea bisiesto debe cumplir una de dos condiciones:\n",
    "\n",
    "(a) que sea divisible por 400; o\n",
    "\n",
    "(b) que sea divisible por 4 y no sea divisible por 100\n",
    "\n",
    "Notar que son dos condiciones, donde la segunda condición tiene dos componentes. Prueben la función con 3 valores para verificar que funcione."
   ]
  },
  {
   "cell_type": "code",
   "execution_count": 2,
   "metadata": {
    "id": "7_MnILdz-c9v"
   },
   "outputs": [
    {
     "name": "stdout",
     "output_type": "stream",
     "text": [
      "2000 es un año bisiesto\n",
      "1980 es un año bisiesto\n",
      "2023 no es un año bisiesto\n"
     ]
    }
   ],
   "source": [
    "def verificar_bisiesto(anio): # Defino nombre de mi función y parámetro\n",
    "    # Acá empiezo la sentencia condicional\n",
    "    if anio % 400 == 0:  # Si divido año por 400 y tiene resto cero, es un año bisiesto\n",
    "        print(anio, \"es un año bisiesto\")  # Imprime el año y que es bisiesto\n",
    "    elif anio % 4 == 0 and anio % 100 != 0:  # Si el año es divisible por 4 y no divisible por 100 es un año bisiesto\n",
    "        print(anio, \"es un año bisiesto\")  # Imprime el año y que es bisiesto\n",
    "    else:\n",
    "        print(anio, \"no es un año bisiesto\") # En el caso de que no se cumplan ninguna de las dos condiciones, el año no es bisiesto\n",
    "\n",
    "# Pruebo con 3 valores \n",
    "verificar_bisiesto(2000) # Es bisiesto. 2000 divisible por 400\n",
    "verificar_bisiesto(1980) # Es bisiesto. 1980 divisible por 4 y no divisible por 100\n",
    "verificar_bisiesto(2023) # No es bisiesto. 2023 no cumple ninguna de las dos condiciones"
   ]
  },
  {
   "cell_type": "markdown",
   "metadata": {
    "collapsed": true,
    "id": "P3a7bJkd-c9w",
    "jupyter": {
     "outputs_hidden": true
    }
   },
   "source": [
    "#### Ejercicio 6 \n",
    "Pongamos en práctica identificar el type() de cada variable. A continuación tenemos una lista con elementos de diferentes tipos. Construyan un for loop que itere sobre la lista e imprima un cartel indicando el tipo de dato u objeto que hay en cada caso."
   ]
  },
  {
   "cell_type": "code",
   "execution_count": 12,
   "metadata": {
    "id": "SAJgEiNEFQAS"
   },
   "outputs": [
    {
     "name": "stdout",
     "output_type": "stream",
     "text": [
      "El elemento 10 es del tipo: <class 'int'>\n",
      "El elemento 34.5 es del tipo: <class 'float'>\n",
      "El elemento 99999 es del tipo: <class 'int'>\n",
      "El elemento abc es del tipo: <class 'str'>\n",
      "El elemento [1, 2, 3] es del tipo: <class 'list'>\n",
      "El elemento ('ARG', 1810) es del tipo: <class 'tuple'>\n",
      "El elemento {'pob': 45} es del tipo: <class 'dict'>\n",
      "El elemento True es del tipo: <class 'bool'>\n"
     ]
    }
   ],
   "source": [
    "\n",
    "mi_lista = [10, 34.5, 99999, 'abc', [1,2,3], ('ARG', 1810), {'pob': 45}, True] # Defino la lista \n",
    "\n",
    "for elem in mi_lista: \n",
    "    print('El elemento', elem, 'es del tipo:', type(elem)) # Para cada elemento de la lista mostrar el elemento y el tipo del elemento\n"
   ]
  },
  {
   "cell_type": "markdown",
   "metadata": {
    "id": "y1lncitl-c9x"
   },
   "source": [
    "#### Ejercicio 7\n",
    "Ahora definan ustedes una nueva lista, en la que los primeros cuatro elementos sean palabras (strings), el quinto elemento no sea string, y el sexto sea string. Construyan un for loop que corra por la lista y que imprima la palabra y la longitud de la misma. Que el loop contenga una sentencia condicional que imprima un cartel \"Elemento no es un string: < el elemento > | < class del elemento >\" para los casos dónde el elemento evaluado no sea string."
   ]
  },
  {
   "cell_type": "code",
   "execution_count": 8,
   "metadata": {
    "id": "bFOk9Os0-c9x"
   },
   "outputs": [
    {
     "name": "stdout",
     "output_type": "stream",
     "text": [
      "El nombre Diego tiene 5 letras\n",
      "El nombre Sofia tiene 5 letras\n",
      "El nombre Manuel tiene 6 letras\n",
      "El nombre Tomas tiene 5 letras\n",
      "El elemento no es un string: < 100 > | <class 'int'>\n",
      "El nombre Walter tiene 6 letras\n"
     ]
    }
   ],
   "source": [
    "\n",
    "mi_lista2 = ['Diego', 'Sofia', 'Manuel', 'Tomas', 100, 'Walter'] # Defino mi lista\n",
    "\n",
    "for elem in mi_lista2: # Para cada elemento de la lista\n",
    "    try: \n",
    "        print('El nombre', elem, 'tiene', len(elem), 'letras') # Mostrar el nombre y la longitud del elemento\n",
    "    except: \n",
    "        print('El elemento no es un string:', '<',elem, '>', '|', type(elem)) # Para los elementos que no son string que lo avise y diga el tipo de elemento\n",
    "\n",
    "\n"
   ]
  },
  {
   "cell_type": "markdown",
   "metadata": {
    "id": "PUpxDz72-c9x"
   },
   "source": [
    "#### Ejercicio 8\n",
    "Argentina tiene una representación legislativa proporcional en la cual la cantidad de diputados se debería ajustar según el tamaño de población de cada provincia. Otra característica de la representación legislativa del país es que hay una cantidad mínima de diputados por provincia (5). Esto genera un desbalance en la cantidad de ciudadanos por cada representante en el Congreso entre provincias.\n",
    "\n",
    "A continuación preparamos algunos ejemplos, dividiendo la población de cada provincia (según estimación para el 2022) por la cantidad de representantes en el Congreso para esa misma jurisdicción. También armamos el equivalente para el total país y una lista con los valores provinciales.\n",
    "\n",
    "En este ejercicio les pedimos que construyan un for loop que itere sobre el diccionario definido y compare cada valor provincial contra el valor de proporcionalidad directa (la variable argentina). El loop debe imprimir una leyenda que indique si la provincia está sobrerepresentada, subrepresentada o con representación proporcional. Además, queremos que el mismo loop compare los valores de las provincias sobrerepresentadas y que guarde el valor de la provincia con mayor sobrerepresentación. Luego del loop impriman este valor así podemos ver que haya funcionado.\n",
    "\n",
    "Fuente para población: https://es.wikipedia.org/wiki/Demograf%C3%ADa_de_Argentina\n",
    "\n",
    "Fuente para representantes: https://es.wikipedia.org/wiki/C%C3%A1mara_de_Diputados_de_la_Naci%C3%B3n_Argentina"
   ]
  },
  {
   "cell_type": "code",
   "execution_count": 26,
   "metadata": {
    "id": "hd8Z5AHs-c9y"
   },
   "outputs": [],
   "source": [
    "# Valor de referencia: proporcionalidad\n",
    "argentina = 46044703 / 257\n",
    "\n",
    "# Creamos variables para una selección de jurisdicciones\n",
    "cordoba = 3978984 / 18\n",
    "santa_fe = 3556522 / 19\n",
    "mendoza = 2014533 / 10\n",
    "buenos_aires = 17569053 / 70\n",
    "entre_rios =  1426426 / 9\n",
    "santa_cruz = 333473 / 5\n",
    "formosa = 606041 / 5\n",
    "\n",
    "# Definimos el diccionario para iterar\n",
    "dict_provincias = {\n",
    "    \"Córdoba\": cordoba,\n",
    "    \"Santa Fe\": santa_fe,\n",
    "    \"Mendoza\": mendoza,\n",
    "    \"Buenos Aires\": buenos_aires,\n",
    "    \"Entre Ríos\": entre_rios,\n",
    "    \"Santa Cruz\": santa_cruz,\n",
    "    \"Formosa\": formosa\n",
    "}"
   ]
  },
  {
   "cell_type": "code",
   "execution_count": 28,
   "metadata": {},
   "outputs": [
    {
     "name": "stdout",
     "output_type": "stream",
     "text": [
      "Córdoba está sub representada\n",
      "Santa Fe está sub representada\n",
      "Mendoza está sub representada\n",
      "Buenos Aires está sub representada\n",
      "Entre Ríos está sobre representada\n",
      "Santa Cruz está sobre representada\n",
      "Formosa está sobre representada\n",
      "La provincia Santa Cruz es la más sobre representada, con un score de 66694.6\n"
     ]
    }
   ],
   "source": [
    "# Resolver acá\n",
    "provincias_sobre = {}\n",
    "# Itero sobre los keys y los valores del diccionario\n",
    "for provincia, score in dict_provincias.items():\n",
    "    if score < argentina: # Comparo el valor asociado a una provincia con el valor de Argentina\n",
    "        print(provincia, \"está sobre representada\") # Printeo el resultado\n",
    "        provincias_sobre[provincia] = score\n",
    "    elif score == argentina: \n",
    "        print(provincia, 'está proporcionalmente representada' )\n",
    "    else:\n",
    "        print(provincia, 'está sub representada')\n",
    "        \n",
    "print('La provincia', min(provincias_sobre, key=provincias_sobre.get), 'es la más sobre representada, con un score de', min(provincias_sobre.values()))"
   ]
  },
  {
   "cell_type": "markdown",
   "metadata": {
    "id": "GokZe5tV-c9z"
   },
   "source": [
    "#### Ejercicio 9\n",
    "Si buscáramos minimizar la subrepresentación de la provincia de Buenos Aires, ¿cuántos representantes debería tener según el Censo 2022? Usemos el mismo criterio de sub/sobrerepresentacion que en el ejercicio anterior: población sobre cantidad de representantes.\n",
    "\n",
    "Para responder esta pregunta construyan un while loop que incremente de a uno la cantidad de representantes de la Provincia hasta minimizar la subrepresentación. En cada iteración impriman un cartel que diga: \"Se agregó un representante, el total ahora es X\" dónde X es el número de representantes simulado."
   ]
  },
  {
   "cell_type": "code",
   "execution_count": 18,
   "metadata": {
    "id": "x9DvuXa_-c9z"
   },
   "outputs": [],
   "source": [
    "# Estos son los valores de la provincia\n",
    "representantes_pba = 70\n",
    "poblacion2010_pba = 17594428\n",
    "\n",
    "\n",
    "# Y el valor de referencia nacional\n",
    "argentina = 46044703 / 257\n"
   ]
  },
  {
   "cell_type": "code",
   "execution_count": 20,
   "metadata": {},
   "outputs": [
    {
     "name": "stdout",
     "output_type": "stream",
     "text": [
      "Se agregó un representante, el total ahora es 71\n",
      "Se agregó un representante, el total ahora es 72\n",
      "Se agregó un representante, el total ahora es 73\n",
      "Se agregó un representante, el total ahora es 74\n",
      "Se agregó un representante, el total ahora es 75\n",
      "Se agregó un representante, el total ahora es 76\n",
      "Se agregó un representante, el total ahora es 77\n",
      "Se agregó un representante, el total ahora es 78\n",
      "Se agregó un representante, el total ahora es 79\n",
      "Se agregó un representante, el total ahora es 80\n",
      "Se agregó un representante, el total ahora es 81\n",
      "Se agregó un representante, el total ahora es 82\n",
      "Se agregó un representante, el total ahora es 83\n",
      "Se agregó un representante, el total ahora es 84\n",
      "Se agregó un representante, el total ahora es 85\n",
      "Se agregó un representante, el total ahora es 86\n",
      "Se agregó un representante, el total ahora es 87\n",
      "Se agregó un representante, el total ahora es 88\n",
      "Se agregó un representante, el total ahora es 89\n",
      "Se agregó un representante, el total ahora es 90\n",
      "Se agregó un representante, el total ahora es 91\n",
      "Se agregó un representante, el total ahora es 92\n",
      "Se agregó un representante, el total ahora es 93\n",
      "Se agregó un representante, el total ahora es 94\n",
      "Se agregó un representante, el total ahora es 95\n",
      "Se agregó un representante, el total ahora es 96\n",
      "Se agregó un representante, el total ahora es 97\n",
      "Se agregó un representante, el total ahora es 98\n",
      "Se agregó un representante, el total ahora es 99\n"
     ]
    }
   ],
   "source": [
    "pba = poblacion2010_pba/representantes_pba\n",
    "\n",
    "# Resolver acá\n",
    "while pba > argentina: # Mientras el ratio población/representantes sea más bajo que el de referencia (el de Arg)\n",
    "    representantes_pba += 1 # sumo un representante\n",
    "    print('Se agregó un representante, el total ahora es', representantes_pba) # Printeo el hecho de que agregué un representante\n",
    "    pba = poblacion2010_pba/representantes_pba # Vuelvo a calcular el cociente para pba"
   ]
  },
  {
   "cell_type": "markdown",
   "metadata": {},
   "source": [
    "#### Ejercicio 10"
   ]
  },
  {
   "cell_type": "markdown",
   "metadata": {},
   "source": [
    "Construyan una función llamada 'suma' que tome una cantidad variable de parámetros y devuelva el resultado de la suma. Ayuda: miren los ejercicios que hay al final de la clase 1."
   ]
  },
  {
   "cell_type": "code",
   "execution_count": 7,
   "metadata": {},
   "outputs": [
    {
     "data": {
      "text/plain": [
       "55"
      ]
     },
     "execution_count": 7,
     "metadata": {},
     "output_type": "execute_result"
    }
   ],
   "source": [
    "# Resolver acá\n",
    "def suma(*sumandos): # Defino la funcion, el asterisco dice que es una vantidad variable de parametros\n",
    "    suma = 0 # Pongo un valor inicial para la suma\n",
    "    for i in sumandos: # Armo un loop que itera sobre todos los parametros\n",
    "        suma += i # Al 0 le agrega el valor del parametro insertado\n",
    "    return suma\n",
    "suma(1, 2, 3, 4, 5, 6, 7, 8, 9, 10)"
   ]
  }
 ],
 "metadata": {
  "anaconda-cloud": {},
  "colab": {
   "name": "TP1 - Parte 1.ipynb",
   "provenance": []
  },
  "kernelspec": {
   "display_name": "Python 3 (ipykernel)",
   "language": "python",
   "name": "python3"
  },
  "language_info": {
   "codemirror_mode": {
    "name": "ipython",
    "version": 3
   },
   "file_extension": ".py",
   "mimetype": "text/x-python",
   "name": "python",
   "nbconvert_exporter": "python",
   "pygments_lexer": "ipython3",
   "version": "3.12.4"
  }
 },
 "nbformat": 4,
 "nbformat_minor": 4
}
