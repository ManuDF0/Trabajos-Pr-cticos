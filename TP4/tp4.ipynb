{
 "cells": [
  {
   "cell_type": "code",
   "execution_count": 6,
   "metadata": {},
   "outputs": [],
   "source": [
    "import pandas as pd"
   ]
  },
  {
   "cell_type": "code",
   "execution_count": 7,
   "metadata": {},
   "outputs": [],
   "source": [
    "indiv_2004 = pd.read_stata('./input/Individual_t104.dta', convert_categoricals= False) # Leo la base individual para 2004, no quiero que me guarde el formato de stata, así que no convierto las variables categóricas\n",
    "#indiv_2024 = pd.read_excel('./input/usu_individual_T124.xlsx') # Leo la base individual para 2024, acá no tengo problemas con el formato\n",
    "hog_2004 = pd.read_stata('./input/Hogar_t104.dta', convert_categoricals= False) # Leo la base de hogares para 2004, devuelta cambio el formato\n",
    "#hog_2024 = pd.read_excel('./input/usu_hogar_T124.xlsx') # Leo la base de hogares para 2024\n",
    "\n",
    "# Los excel tardan bastante en cargar, así que vamos a guardarlos en otro formato"
   ]
  },
  {
   "cell_type": "code",
   "execution_count": 8,
   "metadata": {},
   "outputs": [],
   "source": [
    "#indiv_2024.to_csv('./input//usu_individual_T124.csv', index= False)\n",
    "#hog_2024.to_csv('./input/usu_hogar_T124.csv', index = False)"
   ]
  },
  {
   "cell_type": "code",
   "execution_count": 9,
   "metadata": {},
   "outputs": [],
   "source": [
    "tipos_indiv = indiv_2004.dtypes.to_dict() # Vemos los dtypes de la base de 2004\n",
    "# Lo guardamos como diccionario para cuando cargue el csv poder especificarle al read_csv los dtypes de la base de 2024\n",
    "# Cambiamos los dtypes de las columnas que nos van a a interesar\n",
    "tipos_indiv['ch04'] = 'category'\n",
    "tipos_indiv['estado'] = 'category'\n",
    "tipos_indiv['cat_inac'] = 'category'\n",
    "tipos_indiv['nivel_ed'] = 'category'\n",
    "tipos_indiv['ch07'] = 'category'\n",
    "tipos_indiv['ch08'] = 'category'\n",
    "tipos_indiv['ano4'] = 'category'\n",
    "tipos_indiv['aglomerado'] = 'category'\n",
    "tipos_indiv['trimestre'] = 'category'\n",
    "tipos_indiv['nro_hogar'] = 'category'\n",
    "\n",
    "# Las asignamos al df\n",
    "indiv_2004 = indiv_2004.astype(tipos_indiv)"
   ]
  },
  {
   "cell_type": "code",
   "execution_count": 16,
   "metadata": {},
   "outputs": [],
   "source": [
    "# También guardo lod dtypes de la base de hogares para cargar bien el csv\n",
    "tipos_hog = hog_2004.dtypes.to_dict()\n",
    "tipos_hog['iv3'] = 'category'\n",
    "tipos_hog['iv4'] = 'category'\n",
    "tipos_hog['iv5'] = 'category'\n",
    "tipos_hog['iv6'] = 'category'\n",
    "tipos_hog['iv7'] = 'category'\n",
    "tipos_hog['iv9'] = 'category'\n",
    "tipos_hog['iv10'] = 'category'\n",
    "tipos_hog['iv11'] = 'category'\n",
    "tipos_hog['ii7'] = 'category'\n",
    "tipos_hog['ii8'] = 'category'\n",
    "tipos_hog['ii9'] = 'category'\n",
    "tipos_hog['v1'] = 'category'\n",
    "tipos_hog['v2'] = 'category'\n",
    "tipos_hog['v21'] = 'category'\n",
    "tipos_hog['v22'] = 'category'\n",
    "tipos_hog['v3'] = 'category'\n",
    "tipos_hog['v4'] = 'category'\n",
    "tipos_hog['v5'] = 'category'\n",
    "tipos_hog['v6'] = 'category'\n",
    "tipos_hog['v7'] = 'category'\n",
    "tipos_hog['v8'] = 'category'\n",
    "tipos_hog['v9'] = 'category'\n",
    "tipos_hog['v10'] = 'category'\n",
    "tipos_hog['v11'] = 'category'\n",
    "tipos_hog['v13'] = 'category'\n",
    "tipos_hog['v14'] = 'category'\n",
    "tipos_hog['v15'] = 'category'\n",
    "tipos_hog['v16'] = 'category'\n",
    "tipos_hog['v17'] = 'category'\n",
    "tipos_hog['v18'] = 'category'\n",
    "tipos_hog['v19_a'] = 'category'\n",
    "tipos_hog['v19_b'] = 'category'\n",
    "\n",
    "hog_2004 = hog_2004.astype(tipos_hog)"
   ]
  },
  {
   "cell_type": "code",
   "execution_count": 17,
   "metadata": {},
   "outputs": [],
   "source": [
    "# Cargo los csv que guarde antes con el dtype correcto y más rápido que un excel\n",
    "indiv_2024 = pd.read_csv('./input/usu_individual_T124.csv', dtype = tipos_indiv, low_memory= False)\n",
    "hog_2024 = pd.read_csv('./input/usu_hogar_T124.csv', dtype = tipos_hog, low_memory= False)"
   ]
  },
  {
   "cell_type": "code",
   "execution_count": 18,
   "metadata": {},
   "outputs": [],
   "source": [
    "cols_ind = indiv_2004.columns # columnas en la base individual\n",
    "cols_hog = hog_2004.columns # columnas en la base de hogares\n",
    "\n",
    "cols_comunes = [col for col in cols_hog if col in cols_ind] # guardo las columnas que tienen en común\n",
    "data_2004 = pd.merge(indiv_2004, hog_2004, on= cols_comunes[:7], how='inner', suffixes=('_indiv', '_hog')) # hago el merge en base a las columnas que tienen en común\n",
    "# Antes me duplicaba las columnas en el merge"
   ]
  },
  {
   "cell_type": "code",
   "execution_count": 19,
   "metadata": {},
   "outputs": [],
   "source": [
    "# Las bases de 2024 tienen las variables en mayúscula, lo que después puede ser un problema\n",
    "indiv_2024.columns = indiv_2024.columns.str.lower() # las paso a minúscula\n",
    "hog_2024.columns = hog_2024.columns.str.lower()\n",
    "\n",
    "# De vuelta agarro las columnas en común y hago el merge en base a esas\n",
    "cols_ind = indiv_2024.columns\n",
    "cols_hog = hog_2024.columns\n",
    "\n",
    "cols_comunes = [col for col in cols_hog if col in cols_ind]\n",
    "data_2024 = pd.merge(indiv_2024, hog_2024, on = cols_comunes[:7], how='inner', suffixes= ('_indiv', '_hog'))\n",
    "\n",
    "# La unica variable que quiero que tenga nombre en mayúscula es CODUSU\n",
    "data_2024.rename(columns={'codusu': 'CODUSU'}, inplace=True)"
   ]
  },
  {
   "cell_type": "code",
   "execution_count": 20,
   "metadata": {},
   "outputs": [],
   "source": [
    "# Juntamos ambas bases en una única base\n",
    "data = pd.concat([data_2004, data_2024], ignore_index= True)"
   ]
  },
  {
   "cell_type": "code",
   "execution_count": 22,
   "metadata": {},
   "outputs": [],
   "source": [
    "# Agarro los dtypes correctos y se los aplico a la base entera\n",
    "categorical_columns = indiv_2004.select_dtypes(include= 'category').columns\n",
    "# Para compatibilizar ambas bases hacemos lo mismo que para la de 2004\n",
    "for col in categorical_columns:\n",
    "    data[col] = data[col].astype(int) # Las paso a integer\n",
    "\n",
    "for col in categorical_columns:\n",
    "    data[col] = data[col].astype('category') # Devuelta las paso a categoría\n",
    "\n",
    "# Hago lo mismo para los dtypes de la de hogares\n",
    "categorical_columns = hog_2004.select_dtypes(include = 'category')\n",
    "for col in categorical_columns:\n",
    "    data[col] = data[col].astype(int) # Las paso a integer\n",
    "\n",
    "for col in categorical_columns:\n",
    "    data[col] = data[col].astype('category') # Devuelta las paso a categoría\n"
   ]
  },
  {
   "cell_type": "code",
   "execution_count": 23,
   "metadata": {},
   "outputs": [],
   "source": [
    "data = data.loc[data['aglomerado'] == 4] # Nos quedamos únicamente con las observaciones de Bahía Blanca\n",
    "\n",
    "# Limpiamos la base. Nos quedamos con las observaciones que tienen un ingreso mayor o igual a 0, las edades mayores o iguales a 0\n",
    "# Y nos quedamos con las observaciones que tienen el mismo ipcf para el individuo y para el hogar\n",
    "data = data.loc[(data['ipcf_indiv']>=0) & (data['ch06']>=0) & (data['ipcf_hog'] == data['ipcf_indiv'])]"
   ]
  },
  {
   "cell_type": "code",
   "execution_count": 24,
   "metadata": {},
   "outputs": [],
   "source": [
    "# Guardo el df en formato pickle para que me guarde los dtypes\n",
    "data.to_pickle('./input/data.pkl')"
   ]
  },
  {
   "cell_type": "code",
   "execution_count": 25,
   "metadata": {},
   "outputs": [],
   "source": [
    "# Cargo la base\n",
    "data = pd.read_pickle('./input/data.pkl')"
   ]
  },
  {
   "cell_type": "code",
   "execution_count": null,
   "metadata": {},
   "outputs": [],
   "source": []
  }
 ],
 "metadata": {
  "kernelspec": {
   "display_name": "Python 3",
   "language": "python",
   "name": "python3"
  },
  "language_info": {
   "codemirror_mode": {
    "name": "ipython",
    "version": 3
   },
   "file_extension": ".py",
   "mimetype": "text/x-python",
   "name": "python",
   "nbconvert_exporter": "python",
   "pygments_lexer": "ipython3",
   "version": "3.12.6"
  }
 },
 "nbformat": 4,
 "nbformat_minor": 2
}
