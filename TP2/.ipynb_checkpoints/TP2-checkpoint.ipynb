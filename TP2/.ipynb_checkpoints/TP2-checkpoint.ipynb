{
 "cells": [
  {
   "cell_type": "markdown",
   "id": "4b8ff2b2-628c-4ecd-9de4-affb5e92ae1f",
   "metadata": {},
   "source": [
    "# Trabajo Práctico 2: APIs y Web Scraping\n",
    "## Alumnos: Manuel Díaz de la Fuente, Diego Fernández Mejide y Sofía Kastika\n",
    "#### \n",
    "El objetivo del presente trabajo es la utilización de APIs y de Web Scraping. Para ello, en primer lugar se usará la API de Mercado Libre para un análisis exploratorio de precios de los productos y de items vendidos por ciertos productores. En segundo lugar, se utilizará la técnica de Web Scraping para tomar los links de las noticias de La Nación vigentes al momento de la realización del trabajo. "
   ]
  },
  {
   "cell_type": "markdown",
   "id": "2755dcfe-a4ec-4bac-8ac6-dc9c89b3dbe9",
   "metadata": {},
   "source": [
    "### Parte A "
   ]
  },
  {
   "cell_type": "markdown",
   "id": "e812f8ad-df38-4ebe-81cc-84900338df83",
   "metadata": {},
   "source": [
    "### Parte B"
   ]
  },
  {
   "cell_type": "code",
   "execution_count": null,
   "id": "3c6abb68-92a1-4a77-9aef-9a13f4cbd424",
   "metadata": {},
   "outputs": [],
   "source": []
  }
 ],
 "metadata": {
  "kernelspec": {
   "display_name": "Python 3 (ipykernel)",
   "language": "python",
   "name": "python3"
  },
  "language_info": {
   "codemirror_mode": {
    "name": "ipython",
    "version": 3
   },
   "file_extension": ".py",
   "mimetype": "text/x-python",
   "name": "python",
   "nbconvert_exporter": "python",
   "pygments_lexer": "ipython3",
   "version": "3.12.4"
  }
 },
 "nbformat": 4,
 "nbformat_minor": 5
}
