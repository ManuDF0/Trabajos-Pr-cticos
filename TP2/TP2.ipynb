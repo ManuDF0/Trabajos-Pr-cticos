{
 "cells": [
  {
   "cell_type": "markdown",
   "id": "4b8ff2b2-628c-4ecd-9de4-affb5e92ae1f",
   "metadata": {},
   "source": [
    "# Trabajo Práctico 2: APIs y Web Scraping\n",
    "## Alumnos: Manuel Díaz de la Fuente, Diego Fernández Mejide y Sofía Kastika\n",
    "#### \n",
    "El objetivo del presente trabajo es la utilización de APIs y de Web Scraping. Para ello, en primer lugar se usará la API de Mercado Libre para un análisis exploratorio de precios de los productos y de items vendidos por ciertos productores. En segundo lugar, se utilizará la técnica de Web Scraping para tomar los links de las noticias de La Nación vigentes al momento de la realización del trabajo. "
   ]
  },
  {
   "cell_type": "markdown",
   "id": "2755dcfe-a4ec-4bac-8ac6-dc9c89b3dbe9",
   "metadata": {},
   "source": [
    "### Parte A "
   ]
  },
  {
   "cell_type": "markdown",
   "id": "e812f8ad-df38-4ebe-81cc-84900338df83",
   "metadata": {},
   "source": [
    "### Parte B\n",
    "El objetivo de esta parte del trabajo es utilizar Web Scraping para armar un dataframe con los los títulos y los links de las noticias expuestas en La Nación el 9/10/2024. \n",
    "\n",
    "ACA PONER LA CAPTURA DE PANTALLA DE LA NACIÓN. "
   ]
  },
  {
   "cell_type": "markdown",
   "id": "666a348f-e03d-4564-a7f5-23c67e8a2496",
   "metadata": {},
   "source": [
    "### Importamos librerías"
   ]
  },
  {
   "cell_type": "code",
   "execution_count": 26,
   "id": "82fed675-50ec-4e27-a80e-8a3130aa58a2",
   "metadata": {},
   "outputs": [],
   "source": [
    "import requests # html requestor\n",
    "from bs4 import BeautifulSoup # html parser \n",
    "import pandas as pd # Librería para manipular dataframes"
   ]
  },
  {
   "cell_type": "markdown",
   "id": "b484ebe1-051c-47bb-b277-6169e848ed89",
   "metadata": {},
   "source": [
    "### Accediendo al contenido de la página de La Nación "
   ]
  },
  {
   "cell_type": "code",
   "execution_count": 70,
   "id": "31f59903-8010-4db3-8498-7457766306c9",
   "metadata": {},
   "outputs": [],
   "source": [
    "url = \"https://www.lanacion.com.ar/\" # Definimos URL\n",
    "r = requests.get(url) # Traemos a la computadora el contenido html y lo almacenamos en 'r' \n",
    "contenido = r.content # Accedemos al contenido de r con .content (en formato bytes)\n",
    "soup = BeautifulSoup(contenido, \"html.parser\") # Que se procese el contenido con el parser"
   ]
  },
  {
   "cell_type": "markdown",
   "id": "c5313ad9-4245-4edb-b03c-a3d84efbe361",
   "metadata": {},
   "source": [
    "### Dentro de la sopa, buscamos los elementos que contienen la información que necesitamos: "
   ]
  },
  {
   "cell_type": "markdown",
   "id": "15a9181b-fc36-4f73-8b49-0e2607010591",
   "metadata": {},
   "source": [
    "### Títulos de noticias"
   ]
  },
  {
   "cell_type": "code",
   "execution_count": 73,
   "id": "934b97a8-4541-4c92-acad-2a75be43d3ab",
   "metadata": {},
   "outputs": [],
   "source": [
    "h2_elements = soup.find_all('h2') # Que encuentre en la sopa todos los elementos h2 \n",
    "titulos = [] # Creamos una lista vacía para luego guardar los títulos ahí\n",
    "\n",
    "# Armamos un for loop: \n",
    "for i in h2_elements: # Para cada elemento en h2_elements\n",
    "    h2_text = i.text.strip() # Guardar al elemento como texto y sacando los espacios necesarios con .strip()\n",
    "    titulos.append({  \n",
    "        'titular': h2_text\n",
    "    }) # Armamos un diccionario para cada elemento i en donde la key es 'titular' y el valor es 'h2_text' y los agregamos a la lista 'titulos'"
   ]
  },
  {
   "cell_type": "markdown",
   "id": "4e20a078-3903-469d-9298-8bb529ffd227",
   "metadata": {},
   "source": [
    "### Creamos un dataframe a partir de la lista de títulos "
   ]
  },
  {
   "cell_type": "code",
   "execution_count": 76,
   "id": "efbe7b9c-8e49-4830-b90c-392690ee7294",
   "metadata": {},
   "outputs": [
    {
     "data": {
      "text/html": [
       "<div>\n",
       "<style scoped>\n",
       "    .dataframe tbody tr th:only-of-type {\n",
       "        vertical-align: middle;\n",
       "    }\n",
       "\n",
       "    .dataframe tbody tr th {\n",
       "        vertical-align: top;\n",
       "    }\n",
       "\n",
       "    .dataframe thead th {\n",
       "        text-align: right;\n",
       "    }\n",
       "</style>\n",
       "<table border=\"1\" class=\"dataframe\">\n",
       "  <thead>\n",
       "    <tr style=\"text-align: right;\">\n",
       "      <th></th>\n",
       "      <th>titular</th>\n",
       "    </tr>\n",
       "  </thead>\n",
       "  <tbody>\n",
       "    <tr>\n",
       "      <th>0</th>\n",
       "      <td>El oficialismo, en alianza con Pro, logró 85 v...</td>\n",
       "    </tr>\n",
       "    <tr>\n",
       "      <th>1</th>\n",
       "      <td>Aliados y sorpresas. Así votó cada diputado la...</td>\n",
       "    </tr>\n",
       "    <tr>\n",
       "      <th>2</th>\n",
       "      <td>¿Se viene otro asado? Quiénes fueron los “85 h...</td>\n",
       "    </tr>\n",
       "    <tr>\n",
       "      <th>3</th>\n",
       "      <td>Ley de financiamiento. Los gremios repudiaron ...</td>\n",
       "    </tr>\n",
       "    <tr>\n",
       "      <th>4</th>\n",
       "      <td>\"Es un gladiador\". La salud de Jorge Lanata: f...</td>\n",
       "    </tr>\n",
       "    <tr>\n",
       "      <th>...</th>\n",
       "      <td>...</td>\n",
       "    </tr>\n",
       "    <tr>\n",
       "      <th>123</th>\n",
       "      <td>Noches de cine y series. Ideas para ubicar la ...</td>\n",
       "    </tr>\n",
       "    <tr>\n",
       "      <th>124</th>\n",
       "      <td>Descanso. A quiénes les corresponde el feriado...</td>\n",
       "    </tr>\n",
       "    <tr>\n",
       "      <th>125</th>\n",
       "      <td>Fechas de cobro. Así es el calendario de pagos...</td>\n",
       "    </tr>\n",
       "    <tr>\n",
       "      <th>126</th>\n",
       "      <td>¿Cuánto ganan? Confirman nuevo aumento de suel...</td>\n",
       "    </tr>\n",
       "    <tr>\n",
       "      <th>127</th>\n",
       "      <td>Consejos y tendencias. Cómo te irá en el traba...</td>\n",
       "    </tr>\n",
       "  </tbody>\n",
       "</table>\n",
       "<p>128 rows × 1 columns</p>\n",
       "</div>"
      ],
      "text/plain": [
       "                                               titular\n",
       "0    El oficialismo, en alianza con Pro, logró 85 v...\n",
       "1    Aliados y sorpresas. Así votó cada diputado la...\n",
       "2    ¿Se viene otro asado? Quiénes fueron los “85 h...\n",
       "3    Ley de financiamiento. Los gremios repudiaron ...\n",
       "4    \"Es un gladiador\". La salud de Jorge Lanata: f...\n",
       "..                                                 ...\n",
       "123  Noches de cine y series. Ideas para ubicar la ...\n",
       "124  Descanso. A quiénes les corresponde el feriado...\n",
       "125  Fechas de cobro. Así es el calendario de pagos...\n",
       "126  ¿Cuánto ganan? Confirman nuevo aumento de suel...\n",
       "127  Consejos y tendencias. Cómo te irá en el traba...\n",
       "\n",
       "[128 rows x 1 columns]"
      ]
     },
     "execution_count": 76,
     "metadata": {},
     "output_type": "execute_result"
    }
   ],
   "source": [
    "titulos_df = pd.DataFrame(titulos) # Con esto tenemos un archivo con todos los titulares de la nación al momento \n",
    "titulos_df # Vemos los titulos"
   ]
  },
  {
   "cell_type": "markdown",
   "id": "f49ce547-4b13-4aae-bccf-6ea409bc6fdb",
   "metadata": {},
   "source": [
    "## Links de noticias \n",
    "En el caso de las noticias de la nación, las noticias tienen el tag 'a', y son de la clase 'link ln-link flex flex-column --unstyled' \n",
    "\n",
    "NO SE SI ES EN EL CASO DE LAS NOTICIAS DE LA NACIÓN O SI ES SIEMPRE ASÍ"
   ]
  },
  {
   "cell_type": "code",
   "execution_count": 89,
   "id": "1d3cd9c3-5321-4ad7-9223-2240d1c0cb77",
   "metadata": {},
   "outputs": [],
   "source": [
    "a_elements = soup.find_all('a', class_='link ln-link flex flex-column --unstyled') # Que encuentre en la sopa todos los elementos a con la clase mencionada. \n",
    "\n",
    "# Comentario: utilizamos class_ porque 'class' es una palabra protegida\n",
    "\n",
    "links = [] # Creamos una lista vacía para luego guardar los links ahí\n",
    "base_url = 'https://www.lanacion.com.ar'\n",
    "# Armamos un for loop para extraer el href para cada link\n",
    "for i in a_elements:\n",
    "    href = i.get('href')  # Obtenemos el atributo href\n",
    "    full_url = base_url + href \n",
    "    links.append({\n",
    "        'link': full_url,\n",
    "        })  # Armamos un diccionario para cada link y lo agrego a la lista 'links'\n"
   ]
  },
  {
   "cell_type": "markdown",
   "id": "efe73590-e152-4be4-b1f4-56f81a6990ac",
   "metadata": {},
   "source": [
    "### Creamos un dataframe a partir de la lista de links  "
   ]
  },
  {
   "cell_type": "code",
   "execution_count": 92,
   "id": "c670a358-a761-44d4-847d-6d1ac019ea13",
   "metadata": {},
   "outputs": [
    {
     "data": {
      "text/html": [
       "<div>\n",
       "<style scoped>\n",
       "    .dataframe tbody tr th:only-of-type {\n",
       "        vertical-align: middle;\n",
       "    }\n",
       "\n",
       "    .dataframe tbody tr th {\n",
       "        vertical-align: top;\n",
       "    }\n",
       "\n",
       "    .dataframe thead th {\n",
       "        text-align: right;\n",
       "    }\n",
       "</style>\n",
       "<table border=\"1\" class=\"dataframe\">\n",
       "  <thead>\n",
       "    <tr style=\"text-align: right;\">\n",
       "      <th></th>\n",
       "      <th>link</th>\n",
       "    </tr>\n",
       "  </thead>\n",
       "  <tbody>\n",
       "    <tr>\n",
       "      <th>0</th>\n",
       "      <td>https://www.lanacion.com.ar/politica/veto-de-m...</td>\n",
       "    </tr>\n",
       "    <tr>\n",
       "      <th>1</th>\n",
       "      <td>https://www.lanacion.com.ar/politica/aliados-y...</td>\n",
       "    </tr>\n",
       "    <tr>\n",
       "      <th>2</th>\n",
       "      <td>https://www.lanacion.com.ar/politica/universid...</td>\n",
       "    </tr>\n",
       "    <tr>\n",
       "      <th>3</th>\n",
       "      <td>https://www.lanacion.com.ar/sociedad/ley-de-fi...</td>\n",
       "    </tr>\n",
       "    <tr>\n",
       "      <th>4</th>\n",
       "      <td>https://www.lanacion.com.ar/espectaculos/perso...</td>\n",
       "    </tr>\n",
       "    <tr>\n",
       "      <th>...</th>\n",
       "      <td>...</td>\n",
       "    </tr>\n",
       "    <tr>\n",
       "      <th>123</th>\n",
       "      <td>https://www.lanacion.com.ar/revista-living/bue...</td>\n",
       "    </tr>\n",
       "    <tr>\n",
       "      <th>124</th>\n",
       "      <td>https://www.lanacion.com.ar/feriados/fin-de-se...</td>\n",
       "    </tr>\n",
       "    <tr>\n",
       "      <th>125</th>\n",
       "      <td>https://www.lanacion.com.ar/economia/calendari...</td>\n",
       "    </tr>\n",
       "    <tr>\n",
       "      <th>126</th>\n",
       "      <td>https://www.lanacion.com.ar/economia/confirman...</td>\n",
       "    </tr>\n",
       "    <tr>\n",
       "      <th>127</th>\n",
       "      <td>https://www.lanacion.com.ar/horoscopo/trabajo-...</td>\n",
       "    </tr>\n",
       "  </tbody>\n",
       "</table>\n",
       "<p>128 rows × 1 columns</p>\n",
       "</div>"
      ],
      "text/plain": [
       "                                                  link\n",
       "0    https://www.lanacion.com.ar/politica/veto-de-m...\n",
       "1    https://www.lanacion.com.ar/politica/aliados-y...\n",
       "2    https://www.lanacion.com.ar/politica/universid...\n",
       "3    https://www.lanacion.com.ar/sociedad/ley-de-fi...\n",
       "4    https://www.lanacion.com.ar/espectaculos/perso...\n",
       "..                                                 ...\n",
       "123  https://www.lanacion.com.ar/revista-living/bue...\n",
       "124  https://www.lanacion.com.ar/feriados/fin-de-se...\n",
       "125  https://www.lanacion.com.ar/economia/calendari...\n",
       "126  https://www.lanacion.com.ar/economia/confirman...\n",
       "127  https://www.lanacion.com.ar/horoscopo/trabajo-...\n",
       "\n",
       "[128 rows x 1 columns]"
      ]
     },
     "execution_count": 92,
     "metadata": {},
     "output_type": "execute_result"
    }
   ],
   "source": [
    "links_df = pd.DataFrame(links) # Con esto tenemos un archivo con todos los links de los titulos la nación al momento \n",
    "links_df # vemos los links"
   ]
  },
  {
   "cell_type": "markdown",
   "id": "2f73b47d-dd9a-4602-977e-c5aa250e4336",
   "metadata": {},
   "source": [
    "### Ahora, vamos a unir los dataframes de los títulos de las noticias y sus links para que nos quede toda la información en un mismo dataframe"
   ]
  },
  {
   "cell_type": "code",
   "execution_count": 87,
   "id": "516833b4-3828-4cef-9f10-3e821013d878",
   "metadata": {},
   "outputs": [],
   "source": [
    "# Concatenamoss los dataframes por columna\n",
    "result_df = pd.concat([titulos_df, links_df], axis=1)\n",
    "\n",
    "# Cambiamos los títulos \n",
    "titulos_df.columns = ['Noticia']\n",
    "links_df.columns = ['Link']\n",
    "\n",
    "# Exportamos a excel \n",
    "result_df.to_excel(\"C:/Users/sofia/Desktop/Maestría/Tercer trimestre/Machine Learning/TPs (mio)/TP 2/hola.xlsx\", index=False, engine='openpyxl')"
   ]
  }
 ],
 "metadata": {
  "kernelspec": {
   "display_name": "Python 3 (ipykernel)",
   "language": "python",
   "name": "python3"
  },
  "language_info": {
   "codemirror_mode": {
    "name": "ipython",
    "version": 3
   },
   "file_extension": ".py",
   "mimetype": "text/x-python",
   "name": "python",
   "nbconvert_exporter": "python",
   "pygments_lexer": "ipython3",
   "version": "3.12.4"
  }
 },
 "nbformat": 4,
 "nbformat_minor": 5
}
